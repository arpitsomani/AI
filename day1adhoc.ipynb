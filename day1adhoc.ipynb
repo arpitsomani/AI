{
  "nbformat": 4,
  "nbformat_minor": 0,
  "metadata": {
    "colab": {
      "name": "day1adhoc.ipynb",
      "provenance": [],
      "authorship_tag": "ABX9TyMb8ubN1XW7b+UqUBcL2Twz",
      "include_colab_link": true
    },
    "kernelspec": {
      "name": "python3",
      "display_name": "Python 3"
    }
  },
  "cells": [
    {
      "cell_type": "markdown",
      "metadata": {
        "id": "view-in-github",
        "colab_type": "text"
      },
      "source": [
        "<a href=\"https://colab.research.google.com/github/arpitsomani/AI/blob/master/day1adhoc.ipynb\" target=\"_parent\"><img src=\"https://colab.research.google.com/assets/colab-badge.svg\" alt=\"Open In Colab\"/></a>"
      ]
    },
    {
      "cell_type": "code",
      "metadata": {
        "id": "O8_QILu4KzJ7",
        "colab_type": "code",
        "outputId": "fa8dcd3f-d9ac-489c-cb18-5c52a1b642a8",
        "colab": {
          "base_uri": "https://localhost:8080/",
          "height": 54
        }
      },
      "source": [
        "\n",
        "#load matplotlib\n",
        "import matplotlib.pyplot as plt\n",
        "x=[2,9,3]\n",
        "y=[7,15,10]\n",
        "\n",
        "plt.xlabel(\"distance\") #x-axix\n",
        "plt.ylabel(\"time\") #y-axix\n",
        "plt.plot(x,y,label=\"railway track\") #plot line\n",
        "plt.scatter(x,y,s=200,label=\"railway station\",marker=\"*\",color=\"red\")\n",
        "plt.bar(x,y,label=\"height of railway station\")\n",
        "plt.legend()\n",
        "plt.grid(color=\"yellow\")\n",
        "plt.show() #show the graph\n",
        "\n",
        "\n",
        "#cricket example\n",
        "players=[\"dhoni\",\"virat\",\"rohit\",\"rahul\",\"sachin\"]\n",
        "scores=[120,50,99,30,10]\n",
        "\n",
        "plt.xlabel(\"players\")\n",
        "plt.ylabel(\"scores\")\n",
        "#plt.bar(player,score,label=\"2020 score of indian cricket team\")\n",
        "plt.pie(scores,labels=players,explode=(0.1,0,0,0,0),shadow=True,autopct=\"%1.1ff%%\")\n",
        "#plt.grid(color=\"red\")\n",
        "plt.legend()\n",
        "plt.show()\n",
        "\n"
      ],
      "execution_count": 0,
      "outputs": [
        {
          "output_type": "execute_result",
          "data": {
            "text/plain": [
              "'\\n#load matplotlib\\nimport matplotlib.pyplot as plt\\nx=[2,9,3]\\ny=[7,15,10]\\n\\nplt.xlabel(\"distance\") #x-axix\\nplt.ylabel(\"time\") #y-axix\\nplt.plot(x,y,label=\"railway track\") #plot line\\nplt.scatter(x,y,s=200,label=\"railway station\",marker=\"*\",color=\"red\")\\nplt.bar(x,y,label=\"height of railway station\")\\nplt.legend()\\nplt.grid(color=\"yellow\")\\nplt.show() #show the graph\\n\\n\\n#cricket example\\nplayers=[\"dhoni\",\"virat\",\"rohit\",\"rahul\",\"sachin\"]\\nscores=[120,50,99,30,10]\\n\\nplt.xlabel(\"players\")\\nplt.ylabel(\"scores\")\\n#plt.bar(player,score,label=\"2020 score of indian cricket team\")\\nplt.pie(scores,labels=players,explode=(0.1,0,0,0,0),shadow=True,autopct=\"%1.1ff%%\")\\n#plt.grid(color=\"red\")\\nplt.legend()\\nplt.show()\\n\\n'"
            ]
          },
          "metadata": {
            "tags": []
          },
          "execution_count": 30
        }
      ]
    }
  ]
}